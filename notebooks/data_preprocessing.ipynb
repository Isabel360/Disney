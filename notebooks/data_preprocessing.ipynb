{
 "cells": [
  {
   "cell_type": "code",
   "execution_count": 26,
   "metadata": {},
   "outputs": [],
   "source": [
    "import matplotlib.pyplot as plt\n",
    "import pandas as pd\n",
    "import numpy as np\n",
    "import seaborn as sns\n",
    "from tqdm import tqdm\n",
    "import os\n",
    "import ipywidgets as widgets\n",
    "from IPython.display import display\n",
    "import datetime"
   ]
  },
  {
   "cell_type": "markdown",
   "metadata": {},
   "source": [
    "<div style=\"background-color: rgba(0, 176, 240, 1); color: rgba(255, 255, 255, 1); font-size: 24px; font-weight: bold; padding: 10px; border-radius: 15px;\">\n",
    "    Hyperparameters & locations\n",
    "</div>"
   ]
  },
  {
   "cell_type": "code",
   "execution_count": 27,
   "metadata": {},
   "outputs": [],
   "source": [
    "locs = {'waiting_folder' : '../data/waiting times'}"
   ]
  },
  {
   "cell_type": "markdown",
   "metadata": {},
   "source": [
    "<div style=\"background-color: rgba(0, 176, 240, 1); color: rgba(255, 255, 255, 1); font-size: 24px; font-weight: bold; padding: 10px; border-radius: 15px;\">\n",
    "    Reading the data\n",
    "</div>"
   ]
  },
  {
   "cell_type": "code",
   "execution_count": 28,
   "metadata": {},
   "outputs": [
    {
     "name": "stderr",
     "output_type": "stream",
     "text": [
      "100%|██████████| 52/52 [00:17<00:00,  2.96it/s]\n"
     ]
    }
   ],
   "source": [
    "waiting_times = list()\n",
    "for attraction in tqdm(os.listdir(locs['waiting_folder'])):\n",
    "    filename = os.path.join(locs['waiting_folder'], attraction)\n",
    "    df = pd.read_csv(filename)\n",
    "    if df.empty:\n",
    "        continue\n",
    "    df.insert(0, 'attraction', attraction.split('.')[0])\n",
    "    waiting_times.append(df)\n",
    "\n",
    "df_wait_raw = pd.concat(waiting_times, ignore_index=True)"
   ]
  },
  {
   "cell_type": "markdown",
   "metadata": {},
   "source": [
    "<div style=\"background-color: rgba(0, 176, 240, 1); color: rgba(255, 255, 255, 1); font-size: 24px; font-weight: bold; padding: 10px; border-radius: 15px;\">\n",
    "    Cleaning the data\n",
    "</div>"
   ]
  },
  {
   "cell_type": "code",
   "execution_count": 52,
   "metadata": {},
   "outputs": [
    {
     "name": "stdout",
     "output_type": "stream",
     "text": [
      "Removed 1318703 rows\n"
     ]
    }
   ],
   "source": [
    "df_wait = df_wait_raw.copy()\n",
    "# Cleaning the actual waiting times\n",
    "# Removing outliers from actuals\n",
    "df_wait = df_wait[((df_wait.SACTMIN >= -1000) & (df_wait.SACTMIN < 360)) | (df_wait.SACTMIN.isnull())]\n",
    "# Removing outliers from posted (attraction closed at -999)\n",
    "df_wait = df_wait[(df_wait.SPOSTMIN >= -998.99) | (df_wait.SPOSTMIN.isnull())]\n",
    "\n",
    "df_wait['date'] = pd.to_datetime(df_wait.date, format = '%m/%d/%Y')\n",
    "df_wait['datetime'] = pd.to_datetime(df_wait.datetime, format = '%Y-%m-%d %H:%M:%S')\n",
    "\n",
    "print(f\"Removed {len(df_wait_raw) - len(df_wait)} rows\")\n",
    "\n",
    "# You could split the dataset into two seperate dataframes (plusjes & minnetjes :-))\n",
    "df_wait_act = df_wait[~df_wait.SACTMIN.isnull()].drop('SPOSTMIN', axis = 1)\n",
    "df_wait_post = df_wait[~df_wait.SPOSTMIN.isnull()].drop('SACTMIN', axis = 1)\n",
    "\n",
    "attractions = df_wait.attraction.unique()"
   ]
  },
  {
   "cell_type": "code",
   "execution_count": 30,
   "metadata": {},
   "outputs": [],
   "source": [
    "# Extract \"minutes from df_wait\" from the datetime column\n",
    "df_wait_post['minute'] = df_wait_post['datetime'].dt.hour * 60 + df_wait_post['datetime'].dt.minute"
   ]
  },
  {
   "cell_type": "code",
   "execution_count": 31,
   "metadata": {},
   "outputs": [
    {
     "data": {
      "text/plain": [
       "array(['country_bears', '7_dwarfs_train', 'pirates_of_caribbean',\n",
       "       'astro_orbiter', 'laugh_floor', 'regal_carrousel',\n",
       "       'big_thunder_mtn', 'spaceship_earth', 'splash_mountain',\n",
       "       'hall_of_presidents', 'toy_story_mania', 'space_mountain',\n",
       "       'sorcerers_of_the_mk', 'jungle_cruise', 'mad_tea_party',\n",
       "       'princess_hall__cinderella_elena', 'dumbo', 'tom_land_speedway',\n",
       "       'swiss_family_tree', 'magic_carpets', 'tom_sawyer_island',\n",
       "       'soarin', 'peoplemover', 'philharmagic', 'it_s_a_small_world',\n",
       "       'kilimanjaro_safaris', 'expedition_everest', 'town_sq_mickey',\n",
       "       'rock_n_rollercoaster', 'carousel_of_progress', 'under_the_sea',\n",
       "       'dinosaur', 'barnstormer', 'flight_of_passage', 'winnie_the_pooh',\n",
       "       'navi_river', 'enchanted_tiki_rm', 'princess_hall__rapunzel_tiana',\n",
       "       'pirate_s_adventure', 'liberty_sq_riverboat', 'peter_pan_s_flight',\n",
       "       'haunted_mansion', 'alien_saucers', 'buzz_lightyear', 'slinky_dog'],\n",
       "      dtype=object)"
      ]
     },
     "execution_count": 31,
     "metadata": {},
     "output_type": "execute_result"
    }
   ],
   "source": [
    "df_wait_post['attraction'].unique()"
   ]
  },
  {
   "cell_type": "markdown",
   "metadata": {},
   "source": [
    "<div style=\"background-color: rgba(0, 176, 240, 1); color: rgba(255, 255, 255, 1); font-size: 24px; font-weight: bold; padding: 10px; border-radius: 15px;\">\n",
    "    SPOSTMIN Resampling index to every 30 mins with interpolation\n",
    "</div>"
   ]
  },
  {
   "cell_type": "code",
   "execution_count": 76,
   "metadata": {},
   "outputs": [
    {
     "name": "stderr",
     "output_type": "stream",
     "text": [
      "100%|██████████| 74858/74858 [30:57<00:00, 40.29it/s]   \n"
     ]
    }
   ],
   "source": [
    "## This code starts from the posted waiting times. \n",
    "# Reindex and resample to a datapoint every 30 minutes. \n",
    "# Add leading and trailing zeros and fill gaps with interpolated values.\n",
    "\n",
    "groups_post = list()\n",
    "\n",
    "for (date, attraction), group in tqdm(df_wait_post.groupby(['date', 'attraction'])):\n",
    "    # Time shift by 3 hours\n",
    "    time_shifted = group['datetime'] - datetime.timedelta(hours=3)\n",
    "    group['minute'] = 3 * 60 + time_shifted.dt.hour * 60 + time_shifted.dt.minute\n",
    "\n",
    "    # Drop unnecessary columns and compute the mean for duplicate minutes\n",
    "    group = group.drop(columns=['datetime', 'attraction', 'date'], errors='ignore')  # Avoid KeyError\n",
    "    group = group.groupby('minute', as_index=False)[['SPOSTMIN']].mean()\n",
    "\n",
    "    # Define the new index (0 to 1620 minutes in 30-minute intervals)\n",
    "    new_index = np.arange(0, 27 * 60 + 1, 30)\n",
    "\n",
    "    # Set 'minute' as the index\n",
    "    group = group.set_index('minute')\n",
    "    \n",
    "    # Find first and last valid indices in SPOSTMIN\n",
    "    first_valid_index = group['SPOSTMIN'].first_valid_index()\n",
    "    last_valid_index = group['SPOSTMIN'].last_valid_index()\n",
    "    \n",
    "    # Reindex while keeping all unique indices\n",
    "    reindexed = group.reindex(np.unique(np.concatenate([new_index, group.index])))\n",
    "    \n",
    "    # Apply interpolation only between the first and last valid indices\n",
    "    if first_valid_index is not None and last_valid_index is not None:\n",
    "        reindexed.loc[first_valid_index:last_valid_index] = reindexed.loc[first_valid_index:last_valid_index].interpolate(method='linear')\n",
    "    \n",
    "    # Fill values before first and after last valid index with zeros\n",
    "    reindexed.loc[:first_valid_index] = reindexed.loc[:first_valid_index].fillna(0)\n",
    "    reindexed.loc[last_valid_index:] = reindexed.loc[last_valid_index:].fillna(0)\n",
    "\n",
    "    # Keep only the required time indices\n",
    "    resampled = reindexed.loc[new_index].reset_index()\n",
    "\n",
    "    # Round to nearest 5-minute interval\n",
    "    resampled['SPOSTMIN'] = (resampled['SPOSTMIN'] + 2.5) // 5 * 5\n",
    "\n",
    "    # Insert date and attraction columns\n",
    "    resampled.insert(0, 'date', date)\n",
    "    resampled.insert(0, 'attraction', attraction)\n",
    "\n",
    "    # Append to final list\n",
    "    groups_post.append(resampled)\n"
   ]
  },
  {
   "cell_type": "code",
   "execution_count": 81,
   "metadata": {},
   "outputs": [],
   "source": [
    "# Combine\n",
    "df_post_itp = pd.concat(groups_post, ignore_index=True)"
   ]
  },
  {
   "cell_type": "code",
   "execution_count": 82,
   "metadata": {},
   "outputs": [
    {
     "data": {
      "text/html": [
       "<div>\n",
       "<style scoped>\n",
       "    .dataframe tbody tr th:only-of-type {\n",
       "        vertical-align: middle;\n",
       "    }\n",
       "\n",
       "    .dataframe tbody tr th {\n",
       "        vertical-align: top;\n",
       "    }\n",
       "\n",
       "    .dataframe thead th {\n",
       "        text-align: right;\n",
       "    }\n",
       "</style>\n",
       "<table border=\"1\" class=\"dataframe\">\n",
       "  <thead>\n",
       "    <tr style=\"text-align: right;\">\n",
       "      <th></th>\n",
       "      <th>attraction</th>\n",
       "      <th>date</th>\n",
       "      <th>minute</th>\n",
       "      <th>SPOSTMIN</th>\n",
       "    </tr>\n",
       "  </thead>\n",
       "  <tbody>\n",
       "    <tr>\n",
       "      <th>628267</th>\n",
       "      <td>magic_carpets</td>\n",
       "      <td>2016-02-09</td>\n",
       "      <td>60</td>\n",
       "      <td>0.0</td>\n",
       "    </tr>\n",
       "    <tr>\n",
       "      <th>1206689</th>\n",
       "      <td>laugh_floor</td>\n",
       "      <td>2017-02-13</td>\n",
       "      <td>1320</td>\n",
       "      <td>0.0</td>\n",
       "    </tr>\n",
       "    <tr>\n",
       "      <th>912960</th>\n",
       "      <td>magic_carpets</td>\n",
       "      <td>2016-08-09</td>\n",
       "      <td>450</td>\n",
       "      <td>0.0</td>\n",
       "    </tr>\n",
       "    <tr>\n",
       "      <th>1773551</th>\n",
       "      <td>space_mountain</td>\n",
       "      <td>2018-01-04</td>\n",
       "      <td>630</td>\n",
       "      <td>110.0</td>\n",
       "    </tr>\n",
       "    <tr>\n",
       "      <th>2475863</th>\n",
       "      <td>big_thunder_mtn</td>\n",
       "      <td>2019-01-12</td>\n",
       "      <td>1140</td>\n",
       "      <td>50.0</td>\n",
       "    </tr>\n",
       "  </tbody>\n",
       "</table>\n",
       "</div>"
      ],
      "text/plain": [
       "              attraction       date  minute  SPOSTMIN\n",
       "628267     magic_carpets 2016-02-09      60       0.0\n",
       "1206689      laugh_floor 2017-02-13    1320       0.0\n",
       "912960     magic_carpets 2016-08-09     450       0.0\n",
       "1773551   space_mountain 2018-01-04     630     110.0\n",
       "2475863  big_thunder_mtn 2019-01-12    1140      50.0"
      ]
     },
     "execution_count": 82,
     "metadata": {},
     "output_type": "execute_result"
    }
   ],
   "source": [
    "df_post_itp.sample(5)"
   ]
  },
  {
   "cell_type": "code",
   "execution_count": 83,
   "metadata": {},
   "outputs": [],
   "source": [
    "# Save dataset with interpolates posted times to csv\n",
    "df_post_itp.to_csv(\"../data/clean/posted_interpolated.csv\", index=False)"
   ]
  },
  {
   "cell_type": "markdown",
   "metadata": {},
   "source": [
    "<div style=\"background-color: rgba(0, 176, 240, 1); color: rgba(255, 255, 255, 1); font-size: 24px; font-weight: bold; padding: 10px; border-radius: 15px;\">\n",
    "    SACTMIN timeshift for minute column. No resampling or interpolation\n",
    "</div>"
   ]
  },
  {
   "cell_type": "code",
   "execution_count": 35,
   "metadata": {},
   "outputs": [
    {
     "name": "stderr",
     "output_type": "stream",
     "text": [
      "100%|██████████| 57576/57576 [01:43<00:00, 558.52it/s]\n"
     ]
    }
   ],
   "source": [
    "## This code starts from the actual waiting times.\n",
    "# Apply a time shift to get the minute column similar to the dataset with posted waiting times.\n",
    "\n",
    "groups_act = list()\n",
    "\n",
    "for (date, attraction), group in tqdm(df_wait_act.groupby(['date', 'attraction'])):\n",
    "    # Time shift by 3 hours\n",
    "    time_shifted = group['datetime'] - datetime.timedelta(hours=3)\n",
    "    group['minute'] = 3 * 60 + time_shifted.dt.hour * 60 + time_shifted.dt.minute\n",
    "\n",
    "    # Append to final list\n",
    "    groups_act.append(group)"
   ]
  },
  {
   "cell_type": "code",
   "execution_count": 36,
   "metadata": {},
   "outputs": [],
   "source": [
    "df_act_timeshift = pd.concat(groups_act, ignore_index=True)"
   ]
  },
  {
   "cell_type": "code",
   "execution_count": 37,
   "metadata": {},
   "outputs": [
    {
     "data": {
      "text/html": [
       "<div>\n",
       "<style scoped>\n",
       "    .dataframe tbody tr th:only-of-type {\n",
       "        vertical-align: middle;\n",
       "    }\n",
       "\n",
       "    .dataframe tbody tr th {\n",
       "        vertical-align: top;\n",
       "    }\n",
       "\n",
       "    .dataframe thead th {\n",
       "        text-align: right;\n",
       "    }\n",
       "</style>\n",
       "<table border=\"1\" class=\"dataframe\">\n",
       "  <thead>\n",
       "    <tr style=\"text-align: right;\">\n",
       "      <th></th>\n",
       "      <th>attraction</th>\n",
       "      <th>date</th>\n",
       "      <th>SACTMIN</th>\n",
       "      <th>minute</th>\n",
       "    </tr>\n",
       "  </thead>\n",
       "  <tbody>\n",
       "    <tr>\n",
       "      <th>0</th>\n",
       "      <td>7_dwarfs_train</td>\n",
       "      <td>2015-01-01</td>\n",
       "      <td>54.0</td>\n",
       "      <td>485</td>\n",
       "    </tr>\n",
       "    <tr>\n",
       "      <th>1</th>\n",
       "      <td>7_dwarfs_train</td>\n",
       "      <td>2015-01-01</td>\n",
       "      <td>55.0</td>\n",
       "      <td>502</td>\n",
       "    </tr>\n",
       "    <tr>\n",
       "      <th>2</th>\n",
       "      <td>barnstormer</td>\n",
       "      <td>2015-01-01</td>\n",
       "      <td>18.0</td>\n",
       "      <td>639</td>\n",
       "    </tr>\n",
       "    <tr>\n",
       "      <th>3</th>\n",
       "      <td>big_thunder_mtn</td>\n",
       "      <td>2015-01-01</td>\n",
       "      <td>37.0</td>\n",
       "      <td>895</td>\n",
       "    </tr>\n",
       "    <tr>\n",
       "      <th>4</th>\n",
       "      <td>buzz_lightyear</td>\n",
       "      <td>2015-01-01</td>\n",
       "      <td>69.0</td>\n",
       "      <td>624</td>\n",
       "    </tr>\n",
       "    <tr>\n",
       "      <th>...</th>\n",
       "      <td>...</td>\n",
       "      <td>...</td>\n",
       "      <td>...</td>\n",
       "      <td>...</td>\n",
       "    </tr>\n",
       "    <tr>\n",
       "      <th>192367</th>\n",
       "      <td>toy_story_mania</td>\n",
       "      <td>2021-12-28</td>\n",
       "      <td>62.0</td>\n",
       "      <td>690</td>\n",
       "    </tr>\n",
       "    <tr>\n",
       "      <th>192368</th>\n",
       "      <td>toy_story_mania</td>\n",
       "      <td>2021-12-28</td>\n",
       "      <td>19.0</td>\n",
       "      <td>1242</td>\n",
       "    </tr>\n",
       "    <tr>\n",
       "      <th>192369</th>\n",
       "      <td>under_the_sea</td>\n",
       "      <td>2021-12-28</td>\n",
       "      <td>16.0</td>\n",
       "      <td>1155</td>\n",
       "    </tr>\n",
       "    <tr>\n",
       "      <th>192370</th>\n",
       "      <td>winnie_the_pooh</td>\n",
       "      <td>2021-12-28</td>\n",
       "      <td>16.0</td>\n",
       "      <td>530</td>\n",
       "    </tr>\n",
       "    <tr>\n",
       "      <th>192371</th>\n",
       "      <td>winnie_the_pooh</td>\n",
       "      <td>2021-12-28</td>\n",
       "      <td>15.0</td>\n",
       "      <td>818</td>\n",
       "    </tr>\n",
       "  </tbody>\n",
       "</table>\n",
       "<p>192372 rows × 4 columns</p>\n",
       "</div>"
      ],
      "text/plain": [
       "             attraction       date  SACTMIN  minute\n",
       "0        7_dwarfs_train 2015-01-01     54.0     485\n",
       "1        7_dwarfs_train 2015-01-01     55.0     502\n",
       "2           barnstormer 2015-01-01     18.0     639\n",
       "3       big_thunder_mtn 2015-01-01     37.0     895\n",
       "4        buzz_lightyear 2015-01-01     69.0     624\n",
       "...                 ...        ...      ...     ...\n",
       "192367  toy_story_mania 2021-12-28     62.0     690\n",
       "192368  toy_story_mania 2021-12-28     19.0    1242\n",
       "192369    under_the_sea 2021-12-28     16.0    1155\n",
       "192370  winnie_the_pooh 2021-12-28     16.0     530\n",
       "192371  winnie_the_pooh 2021-12-28     15.0     818\n",
       "\n",
       "[192372 rows x 4 columns]"
      ]
     },
     "execution_count": 37,
     "metadata": {},
     "output_type": "execute_result"
    }
   ],
   "source": [
    "df_act_timeshift.drop(columns = ['datetime'])"
   ]
  },
  {
   "cell_type": "code",
   "execution_count": 21,
   "metadata": {},
   "outputs": [],
   "source": [
    "# Safe dataset with timeshifted actuals to csv\n",
    "df_act_timeshift.to_csv(\"../data/clean/actuals_shifted.csv\", index=False)"
   ]
  },
  {
   "cell_type": "markdown",
   "metadata": {},
   "source": [
    "<div style=\"background-color: rgba(0, 176, 240, 1); color: rgba(255, 255, 255, 1); font-size: 24px; font-weight: bold; padding: 10px; border-radius: 15px;\">\n",
    "    Interpolating and preparing training dataframe\n",
    "</div>"
   ]
  },
  {
   "cell_type": "code",
   "execution_count": 53,
   "metadata": {},
   "outputs": [
    {
     "name": "stderr",
     "output_type": "stream",
     "text": [
      "100%|██████████| 77543/77543 [12:02<00:00, 107.25it/s] \n"
     ]
    }
   ],
   "source": [
    "## This code starts from the entire dataset of posted and actual waiting times.\n",
    "# For every row where there is an actual value, interpolate the posted waiting time.\n",
    "# Calculate the actual-over-posted ratio and prepare the training dataset.\n",
    "\n",
    "groups = list()\n",
    "\n",
    "for (date, attraction), group in tqdm(list(df_wait.groupby(['date', 'attraction']))):\n",
    "    time_shifted = group.datetime - datetime.timedelta(hours = 3)\n",
    "    group['minute'] = 3 * 60 + time_shifted.dt.hour * 60 + time_shifted.dt.minute\n",
    "\n",
    "    # Reindex the DataFrame\n",
    "    # Set the 'minute' column as the index\n",
    "    group = group.set_index('minute')\n",
    "\n",
    "    # Interpolate SPOSTMIN to fill blanks\n",
    "    group['SPOSTMIN_interp'] = group['SPOSTMIN'].interpolate(method='linear')\n",
    "\n",
    "    # Calculate the actual over posted ratio\n",
    "    group['actual_over_posted'] =  group['SACTMIN'] / group['SPOSTMIN_interp']\n",
    "\n",
    "    # Keep only the features and targets for training\n",
    "    group = group.drop(columns=['datetime', 'SACTMIN', 'SPOSTMIN', 'SPOSTMIN_interp']).dropna(subset=['actual_over_posted'])\n",
    "\n",
    "    groups.append(group)"
   ]
  },
  {
   "cell_type": "code",
   "execution_count": 77,
   "metadata": {},
   "outputs": [],
   "source": [
    "group.to_csv(\"../data/clean/example_interpolation.csv\", index=True)"
   ]
  },
  {
   "cell_type": "code",
   "execution_count": 78,
   "metadata": {},
   "outputs": [],
   "source": [
    "# Combine\n",
    "training_dataset = pd.concat(groups, ignore_index=False)"
   ]
  },
  {
   "cell_type": "code",
   "execution_count": 79,
   "metadata": {},
   "outputs": [
    {
     "data": {
      "text/html": [
       "<div>\n",
       "<style scoped>\n",
       "    .dataframe tbody tr th:only-of-type {\n",
       "        vertical-align: middle;\n",
       "    }\n",
       "\n",
       "    .dataframe tbody tr th {\n",
       "        vertical-align: top;\n",
       "    }\n",
       "\n",
       "    .dataframe thead th {\n",
       "        text-align: right;\n",
       "    }\n",
       "</style>\n",
       "<table border=\"1\" class=\"dataframe\">\n",
       "  <thead>\n",
       "    <tr style=\"text-align: right;\">\n",
       "      <th></th>\n",
       "      <th>attraction</th>\n",
       "      <th>date</th>\n",
       "      <th>actual_over_posted</th>\n",
       "    </tr>\n",
       "    <tr>\n",
       "      <th>minute</th>\n",
       "      <th></th>\n",
       "      <th></th>\n",
       "      <th></th>\n",
       "    </tr>\n",
       "  </thead>\n",
       "  <tbody>\n",
       "    <tr>\n",
       "      <th>690</th>\n",
       "      <td>toy_story_mania</td>\n",
       "      <td>2021-12-28</td>\n",
       "      <td>0.729412</td>\n",
       "    </tr>\n",
       "    <tr>\n",
       "      <th>1242</th>\n",
       "      <td>toy_story_mania</td>\n",
       "      <td>2021-12-28</td>\n",
       "      <td>0.690909</td>\n",
       "    </tr>\n",
       "    <tr>\n",
       "      <th>1155</th>\n",
       "      <td>under_the_sea</td>\n",
       "      <td>2021-12-28</td>\n",
       "      <td>0.533333</td>\n",
       "    </tr>\n",
       "    <tr>\n",
       "      <th>530</th>\n",
       "      <td>winnie_the_pooh</td>\n",
       "      <td>2021-12-28</td>\n",
       "      <td>0.640000</td>\n",
       "    </tr>\n",
       "    <tr>\n",
       "      <th>818</th>\n",
       "      <td>winnie_the_pooh</td>\n",
       "      <td>2021-12-28</td>\n",
       "      <td>0.500000</td>\n",
       "    </tr>\n",
       "  </tbody>\n",
       "</table>\n",
       "</div>"
      ],
      "text/plain": [
       "             attraction       date  actual_over_posted\n",
       "minute                                                \n",
       "690     toy_story_mania 2021-12-28            0.729412\n",
       "1242    toy_story_mania 2021-12-28            0.690909\n",
       "1155      under_the_sea 2021-12-28            0.533333\n",
       "530     winnie_the_pooh 2021-12-28            0.640000\n",
       "818     winnie_the_pooh 2021-12-28            0.500000"
      ]
     },
     "execution_count": 79,
     "metadata": {},
     "output_type": "execute_result"
    }
   ],
   "source": [
    "training_dataset.tail(5)"
   ]
  },
  {
   "cell_type": "code",
   "execution_count": 61,
   "metadata": {},
   "outputs": [],
   "source": [
    "# Save training dataset to csv\n",
    "training_dataset.to_csv(\"../data/clean/training_dataset.csv\", index=True)"
   ]
  },
  {
   "cell_type": "code",
   "execution_count": null,
   "metadata": {},
   "outputs": [],
   "source": []
  }
 ],
 "metadata": {
  "kernelspec": {
   "display_name": "pythonProject",
   "language": "python",
   "name": "python3"
  },
  "language_info": {
   "codemirror_mode": {
    "name": "ipython",
    "version": 3
   },
   "file_extension": ".py",
   "mimetype": "text/x-python",
   "name": "python",
   "nbconvert_exporter": "python",
   "pygments_lexer": "ipython3",
   "version": "3.11.9"
  }
 },
 "nbformat": 4,
 "nbformat_minor": 2
}
