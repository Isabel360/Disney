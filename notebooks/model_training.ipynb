{
 "cells": [
  {
   "cell_type": "code",
   "execution_count": 1,
   "id": "f12dcd08",
   "metadata": {},
   "outputs": [],
   "source": [
    "import pandas as pd\n",
    "import numpy as np\n",
    "import matplotlib.pyplot as plt\n",
    "import seaborn as sns"
   ]
  },
  {
   "cell_type": "code",
   "execution_count": 2,
   "metadata": {},
   "outputs": [],
   "source": [
    "from sklearn.metrics import mean_squared_error, mean_absolute_error\n",
    "from sklearn.model_selection import train_test_split\n",
    "from sklearn.ensemble import AdaBoostRegressor\n",
    "from sklearn.linear_model import LinearRegression\n",
    "from sklearn.ensemble import RandomForestRegressor\n"
   ]
  },
  {
   "cell_type": "code",
   "execution_count": 3,
   "metadata": {},
   "outputs": [],
   "source": [
    "## These are for the interactive plot in this notebook.\n",
    "# You may have to install the packages first (use pip or conda install)\n",
    "# Also fine to skip it, if you don't want to run the plot.\n",
    "\n",
    "import dash\n",
    "from dash import dcc, html\n",
    "from dash.dependencies import Input, Output\n",
    "import plotly.express as px"
   ]
  },
  {
   "cell_type": "markdown",
   "id": "c5255dc7",
   "metadata": {},
   "source": [
    "<div style=\"background-color: rgba(0, 176, 176, 1); color: rgba(255, 255, 255, 1); font-size: 24px; font-weight: bold; padding: 10px; border-radius: 15px;\">\n",
    "    Load data\n",
    "</div>"
   ]
  },
  {
   "cell_type": "code",
   "execution_count": null,
   "id": "1770bf11",
   "metadata": {},
   "outputs": [],
   "source": [
    "## load original dataset with interpolated SPOSTMIN\n",
    "df_itp = pd.read_csv('../data/clean/posted_interpolated.csv')\n",
    "print(len(df_itp))\n",
    "df_itp.head()"
   ]
  },
  {
   "cell_type": "code",
   "execution_count": null,
   "metadata": {},
   "outputs": [],
   "source": [
    "## load original dataset SACTMIN\n",
    "df_act = pd.read_csv('../data/clean/actuals_shifted.csv')\n",
    "print(len(df_act))\n",
    "df_act.head()"
   ]
  },
  {
   "cell_type": "code",
   "execution_count": null,
   "id": "470c8464",
   "metadata": {},
   "outputs": [],
   "source": [
    "## load training dataest\n",
    "df = pd.read_csv('../data/clean/training_dataset.csv')\n",
    "print(len(df))\n",
    "df.head()\n"
   ]
  },
  {
   "cell_type": "code",
   "execution_count": null,
   "id": "2b5f5f5d",
   "metadata": {},
   "outputs": [],
   "source": [
    "## Load metadata\n",
    "df_meta = pd.read_csv('../data/overview data/metadata.csv', sep = ',', usecols=['DATE','DAYOFWEEK','DAYOFYEAR','WEEKOFYEAR','MONTHOFYEAR','YEAR','SEASON'])\n",
    "df_meta.sample(5)"
   ]
  },
  {
   "cell_type": "markdown",
   "id": "16b7bc9c",
   "metadata": {},
   "source": [
    "<div style=\"background-color: rgba(0, 176, 176, 1); color: rgba(255, 255, 255, 1); font-size: 24px; font-weight: bold; padding: 10px; border-radius: 15px;\">\n",
    "    Cleaning - Merging\n",
    "</div>"
   ]
  },
  {
   "cell_type": "code",
   "execution_count": null,
   "id": "93d1dac4",
   "metadata": {},
   "outputs": [],
   "source": [
    "## Check quality of actual_over_posted values\n",
    "print(f\"NaN count: {df['actual_over_posted'].isna().sum()}\")  \n",
    "print(f\"Zero count: {df['actual_over_posted'].isnull().sum()}\")\n",
    "print(f\"Inf count: {(~np.isfinite(df['actual_over_posted'])).sum()}\")"
   ]
  },
  {
   "cell_type": "code",
   "execution_count": null,
   "id": "d3b3abea",
   "metadata": {},
   "outputs": [],
   "source": [
    "## cleaning: remove 'inf' in actual_over_posted\n",
    "pre = len(df)\n",
    "df = df[np.isfinite(df['actual_over_posted'])]\n",
    "print(f\"Removed {pre - len(df)} rows.\")"
   ]
  },
  {
   "cell_type": "code",
   "execution_count": 10,
   "id": "1f06799e",
   "metadata": {},
   "outputs": [],
   "source": [
    "# ## Fill NaN with the value 'NONE'\n",
    "# df_meta['SEASON']=df_meta['SEASON'].fillna(value='NO_SEASON')"
   ]
  },
  {
   "cell_type": "code",
   "execution_count": 11,
   "id": "e121e2a7",
   "metadata": {},
   "outputs": [],
   "source": [
    "# # Merge df_meta into df\n",
    "# merged_df = pd.merge(df, df_meta, left_on='date', right_on='DATE', how='inner')\n",
    "# print(len(df))\n",
    "# len(merged_df)"
   ]
  },
  {
   "cell_type": "code",
   "execution_count": 12,
   "id": "97da9f7e",
   "metadata": {},
   "outputs": [],
   "source": [
    "# Change format of date columns\n",
    "df['date'] = pd.to_datetime(df['date'])\n",
    "df_itp['date'] = pd.to_datetime(df_itp['date'])\n",
    "df_act['date'] = pd.to_datetime(df_act['date'])\n",
    "df_meta['DATE'] = pd.to_datetime(df_meta['DATE'], format='%m/%d/%Y')"
   ]
  },
  {
   "cell_type": "code",
   "execution_count": 13,
   "metadata": {},
   "outputs": [],
   "source": [
    "# Function to extract Features\n",
    "def extract_features(df):\n",
    "    df['year'] = df['date'].dt.year\n",
    "    df['month'] = df['date'].dt.month\n",
    "    df['day'] = df['date'].dt.day\n",
    "    df['day_of_week'] = df['date'].dt.dayofweek\n",
    "    df['week_of_year'] = df['date'].dt.isocalendar().week\n",
    "    df['quarter'] = df['date'].dt.quarter\n",
    "    df['day_of_year'] = df['date'].dt.dayofyear\n",
    "    df['is_weekend'] = df['day_of_week'].isin([5, 6]).astype(int)\n",
    "    return df"
   ]
  },
  {
   "cell_type": "code",
   "execution_count": null,
   "id": "c5df0a89",
   "metadata": {},
   "outputs": [],
   "source": [
    "# Extract features of the dataframe\n",
    "extract_features(df)\n",
    "df.sample(5)"
   ]
  },
  {
   "cell_type": "code",
   "execution_count": null,
   "metadata": {},
   "outputs": [],
   "source": [
    "# Extract features of the interpolated df\n",
    "extract_features(df_itp)\n",
    "df_itp.sample(5)"
   ]
  },
  {
   "cell_type": "code",
   "execution_count": null,
   "metadata": {},
   "outputs": [],
   "source": [
    "# Extract features of the actuals df\n",
    "extract_features(df_act)\n",
    "df_act.sample(5)"
   ]
  },
  {
   "cell_type": "markdown",
   "id": "0735ccdb",
   "metadata": {},
   "source": [
    "<div style=\"background-color: rgba(0, 176, 176, 1); color: rgba(255, 255, 255, 1); font-size: 24px; font-weight: bold; padding: 10px; border-radius: 15px;\">\n",
    "    Basic visualization\n",
    "</div>"
   ]
  },
  {
   "cell_type": "code",
   "execution_count": null,
   "id": "56e39a11",
   "metadata": {},
   "outputs": [],
   "source": [
    "## How many target datapoints do we have per attraction?\n",
    "posted_count = df.groupby([\"attraction\", \"date\"])[\"actual_over_posted\"].count().reset_index()\n",
    "\n",
    "avg_posted_count = posted_count.groupby(\"attraction\")[\"actual_over_posted\"].mean().reset_index()\n",
    "\n",
    "plt.figure(figsize=(15, 6))\n",
    "plt.bar(avg_posted_count[\"attraction\"], avg_posted_count[\"actual_over_posted\"])\n",
    "\n",
    "plt.xlabel(\"Attracties\")\n",
    "plt.ylabel(\"Gegevenspunten\")\n",
    "plt.xticks(rotation=90)\n",
    "\n",
    "plt.show()"
   ]
  },
  {
   "cell_type": "markdown",
   "id": "cd620d00",
   "metadata": {},
   "source": [
    "<div style=\"background-color: rgba(0, 176, 176, 1); color: rgba(255, 255, 255, 1); font-size: 24px; font-weight: bold; padding: 10px; border-radius: 15px;\">\n",
    "    Model training\n",
    "</div>"
   ]
  },
  {
   "cell_type": "code",
   "execution_count": 18,
   "id": "5447fb8f",
   "metadata": {},
   "outputs": [],
   "source": [
    "X = pd.get_dummies(df.drop(['actual_over_posted','date'],axis=1),drop_first=True)\n",
    "y = df['actual_over_posted']"
   ]
  },
  {
   "cell_type": "code",
   "execution_count": null,
   "id": "d029b5d6",
   "metadata": {},
   "outputs": [],
   "source": [
    "X.head(10)"
   ]
  },
  {
   "cell_type": "code",
   "execution_count": 20,
   "id": "2031b3a8",
   "metadata": {},
   "outputs": [],
   "source": [
    "X_train, X_test, y_train, y_test = train_test_split(X, y, test_size=0.1, random_state=101)"
   ]
  },
  {
   "cell_type": "code",
   "execution_count": 21,
   "id": "136d6e4e",
   "metadata": {},
   "outputs": [],
   "source": [
    "# Function to fit a model and print metrics\n",
    "def run_model(model,X_train,y_train,X_test,y_test):\n",
    "    # Fitten van het Model\n",
    "    model.fit(X_train,y_train)\n",
    "    \n",
    "    # Bereken de Metrics    \n",
    "    preds = model.predict(X_test)\n",
    "    mae = mean_absolute_error(y_test, preds)\n",
    "    rmse = np.sqrt(mean_squared_error(y_test,preds))\n",
    "    print(f'MAE : {mae}')\n",
    "    print(f'RMSE : {rmse}')"
   ]
  },
  {
   "cell_type": "code",
   "execution_count": null,
   "metadata": {},
   "outputs": [],
   "source": [
    "## Let's try linear regression\n",
    "model_lr = LinearRegression()\n",
    "run_model(model_lr,X_train,y_train,X_test,y_test)"
   ]
  },
  {
   "cell_type": "code",
   "execution_count": null,
   "metadata": {},
   "outputs": [],
   "source": [
    "## Let's try random forest\n",
    "model_rf = RandomForestRegressor(n_estimators=10)    \n",
    "run_model(model_rf,X_train,y_train,X_test,y_test)"
   ]
  },
  {
   "cell_type": "code",
   "execution_count": null,
   "id": "d5fb7ac2",
   "metadata": {},
   "outputs": [],
   "source": [
    "## Let's try Adaboost\n",
    "model_ada = AdaBoostRegressor()\n",
    "run_model(model_ada,X_train,y_train,X_test,y_test)"
   ]
  },
  {
   "cell_type": "code",
   "execution_count": 25,
   "metadata": {},
   "outputs": [],
   "source": [
    "## Choose one of the models above to continue with?\n",
    "model = model_lr        # Adapt as you prefer. "
   ]
  },
  {
   "cell_type": "markdown",
   "id": "82a4ca16",
   "metadata": {},
   "source": [
    "<div style=\"background-color: rgba(0, 176, 176, 1); color: rgba(255, 255, 255, 1); font-size: 24px; font-weight: bold; padding: 10px; border-radius: 15px;\">\n",
    "    Check results\n",
    "</div>"
   ]
  },
  {
   "cell_type": "code",
   "execution_count": 26,
   "id": "3185ef26",
   "metadata": {},
   "outputs": [],
   "source": [
    "# prepare a dataframe with the same feature columns as the test set, selecting from the original dataset\n",
    "df_itp_dummies = pd.get_dummies(df_itp)\n",
    "feature_names = X.columns\n",
    "df_features = df_itp_dummies[[col for col in feature_names if col in df_itp_dummies.columns]]\n"
   ]
  },
  {
   "cell_type": "code",
   "execution_count": 27,
   "id": "61bcd986",
   "metadata": {},
   "outputs": [],
   "source": [
    "# Use the trained model to predict the ratio\n",
    "df_itp['predicted_ratio'] = model.predict(df_features)\n",
    "# Then predict the actual times by multiplying SPOSTMIN with the predicted ratio\n",
    "df_itp['predicted_actual_time'] = df_itp['predicted_ratio'] * df_itp['SPOSTMIN']"
   ]
  },
  {
   "cell_type": "code",
   "execution_count": null,
   "metadata": {},
   "outputs": [],
   "source": [
    "# Concatenate the actuals\n",
    "concatenated_df = pd.concat([df_itp, df_act.drop(columns=['datetime'])], ignore_index=True, sort=False)\n",
    "# Reindexing the DataFrame\n",
    "concatenated_df = concatenated_df.reset_index(drop=True)\n",
    "\n",
    "concatenated_df.sample(5)"
   ]
  },
  {
   "cell_type": "code",
   "execution_count": null,
   "metadata": {},
   "outputs": [],
   "source": [
    "# Initialize Dash app\n",
    "app = dash.Dash(__name__)\n",
    "\n",
    "# App layout\n",
    "app.layout = html.Div([\n",
    "    html.H1(\"Predicted Waiting Times\", style={'textAlign': 'center'}),\n",
    "    \n",
    "    # Dropdown for selecting Year\n",
    "    html.Label(\"Select year:\"),\n",
    "    dcc.Dropdown(\n",
    "        id='year-dropdown',\n",
    "        options=[{'label': year, 'value': year} for year in concatenated_df['year'].unique()],\n",
    "        value=concatenated_df['year'].unique()[0],  # Default to first date\n",
    "        clearable=False\n",
    "    ),\n",
    "        \n",
    "    # Dropdown for selecting Month\n",
    "    html.Label(\"Select month:\"),\n",
    "    dcc.Dropdown(\n",
    "        id='month-dropdown',\n",
    "        options=[{'label': month, 'value': month} for month in concatenated_df['month'].unique()],\n",
    "        value=concatenated_df['month'].unique()[0],  # Default to first date\n",
    "        clearable=False\n",
    "    ),    \n",
    "    \n",
    "    # Dropdown for selecting Day\n",
    "    html.Label(\"Select day:\"),\n",
    "    dcc.Dropdown(\n",
    "        id='day-dropdown',\n",
    "        options=[{'label': day, 'value': day} for day in concatenated_df['day'].unique()],\n",
    "        value=concatenated_df['day'].unique()[0],  # Default to first date\n",
    "        clearable=False\n",
    "    ),\n",
    "    \n",
    "    # Dropdown for selecting Attraction\n",
    "    html.Label(\"Select Attraction:\"),\n",
    "    dcc.Dropdown(\n",
    "        id='attraction-dropdown',\n",
    "        options=[{'label': attraction, 'value': attraction} for attraction in concatenated_df['attraction'].unique()],\n",
    "        value=concatenated_df['attraction'].unique()[0],  # Default to first attraction\n",
    "        clearable=False\n",
    "    ),\n",
    "    \n",
    "    # Graph output\n",
    "    dcc.Graph(id='scatter-plot')\n",
    "])\n",
    "\n",
    "# Callback to update graph based on selections\n",
    "@app.callback(\n",
    "    Output('scatter-plot', 'figure'),\n",
    "    [Input('year-dropdown', 'value'),\n",
    "     Input('month-dropdown', 'value'),\n",
    "     Input('day-dropdown', 'value'),\n",
    "     Input('attraction-dropdown', 'value')]\n",
    ")\n",
    "def update_graph(selected_year, selected_month, selected_day, selected_attraction):\n",
    "    # Filter dataset\n",
    "    filtered_df = concatenated_df.query(\"year == @selected_year \\\n",
    "                               & month == @selected_month \\\n",
    "                               & day == @selected_day \\\n",
    "                               & attraction == @selected_attraction\")\n",
    "    \n",
    "    # Create scatter plot\n",
    "    fig = px.scatter(\n",
    "        filtered_df,\n",
    "        x='minute',\n",
    "        y=['SPOSTMIN','SACTMIN'],\n",
    "        labels={'value': \"Wait Time (Minutes)\", 'minute': \"Minute of the Day\"},\n",
    "        title=f\"Wait Time for {selected_attraction} on {selected_year} - {selected_month} - {selected_day}\"\n",
    "    )\n",
    "\n",
    "    # Add predicted_ratio curve\n",
    "    fig.add_scatter(x=filtered_df['minute'], y=filtered_df['predicted_actual_time'],\n",
    "                    mode='lines', name='Predicted', line=dict(color='green', width=2))\n",
    "    \n",
    "    return fig\n",
    "\n",
    "# Run the app\n",
    "if __name__ == '__main__':\n",
    "    app.run_server(debug=True)\n"
   ]
  },
  {
   "cell_type": "code",
   "execution_count": 34,
   "metadata": {},
   "outputs": [],
   "source": [
    "## Prepare export dataset\n",
    "# Select required columns\n",
    "export_df = concatenated_df[['attraction', 'date', 'minute', 'SPOSTMIN', 'SACTMIN', 'predicted_actual_time']]"
   ]
  },
  {
   "cell_type": "code",
   "execution_count": 35,
   "metadata": {},
   "outputs": [],
   "source": [
    "# Export as csv\n",
    "export_df.to_csv('../data/clean/waiting_times_with_prediction.csv')"
   ]
  }
 ],
 "metadata": {
  "kernelspec": {
   "display_name": "pythonProject",
   "language": "python",
   "name": "python3"
  },
  "language_info": {
   "codemirror_mode": {
    "name": "ipython",
    "version": 3
   },
   "file_extension": ".py",
   "mimetype": "text/x-python",
   "name": "python",
   "nbconvert_exporter": "python",
   "pygments_lexer": "ipython3",
   "version": "3.11.9"
  }
 },
 "nbformat": 4,
 "nbformat_minor": 2
}
