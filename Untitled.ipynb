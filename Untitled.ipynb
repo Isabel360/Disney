{
 "cells": [
  {
   "cell_type": "code",
   "execution_count": 4,
   "id": "9bad5a76-ee63-4d4c-ab07-431e14d05c7a",
   "metadata": {},
   "outputs": [],
   "source": [
    "import matplotlib.pyplot as plt\n",
    "import pandas as pd\n",
    "import numpy as np\n",
    "from tqdm import tqdm\n",
    "import os\n",
    "import ipywidgets as widgets\n",
    "from IPython.display import display\n",
    "import glob\n",
    "from datetime import datetime,timedelta\n",
    "import seaborn as sns\n",
    "import xgboost as xgb\n",
    "from xgboost import XGBRegressor\n",
    "from sklearn.model_selection import train_test_split"
   ]
  },
  {
   "cell_type": "code",
   "execution_count": 2,
   "id": "70be6ff4-3af3-4809-a8d4-d7249340d1b9",
   "metadata": {},
   "outputs": [
    {
     "name": "stdout",
     "output_type": "stream",
     "text": [
      "Collecting xgboost\n",
      "  Downloading xgboost-3.0.0-py3-none-manylinux_2_28_x86_64.whl.metadata (2.1 kB)\n",
      "Requirement already satisfied: numpy in /usr/local/lib/python3.11/dist-packages (from xgboost) (2.0.2)\n",
      "Collecting nvidia-nccl-cu12 (from xgboost)\n",
      "  Downloading nvidia_nccl_cu12-2.26.2-py3-none-manylinux2014_x86_64.manylinux_2_17_x86_64.whl.metadata (2.0 kB)\n",
      "Requirement already satisfied: scipy in /usr/local/lib/python3.11/dist-packages (from xgboost) (1.15.2)\n",
      "Downloading xgboost-3.0.0-py3-none-manylinux_2_28_x86_64.whl (253.9 MB)\n",
      "\u001b[2K   \u001b[90m━━━━━━━━━━━━━━━━━━━━━━━━━━━━━━━━━━━━━━━━\u001b[0m \u001b[32m253.9/253.9 MB\u001b[0m \u001b[31m2.0 MB/s\u001b[0m eta \u001b[36m0:00:00\u001b[0m00:01\u001b[0m00:04\u001b[0m\n",
      "\u001b[?25hDownloading nvidia_nccl_cu12-2.26.2-py3-none-manylinux2014_x86_64.manylinux_2_17_x86_64.whl (201.3 MB)\n",
      "\u001b[2K   \u001b[90m━━━━━━━━━━━━━━━━━━━━━━━━━━━━━━━━━━━━━━━━\u001b[0m \u001b[32m201.3/201.3 MB\u001b[0m \u001b[31m5.0 MB/s\u001b[0m eta \u001b[36m0:00:00\u001b[0m00:01\u001b[0m00:02\u001b[0mm\n",
      "\u001b[?25hInstalling collected packages: nvidia-nccl-cu12, xgboost\n",
      "Successfully installed nvidia-nccl-cu12-2.26.2 xgboost-3.0.0\n",
      "\u001b[33mWARNING: Running pip as the 'root' user can result in broken permissions and conflicting behaviour with the system package manager, possibly rendering your system unusable.It is recommended to use a virtual environment instead: https://pip.pypa.io/warnings/venv. Use the --root-user-action option if you know what you are doing and want to suppress this warning.\u001b[0m\u001b[33m\n",
      "\u001b[0m\n",
      "\u001b[1m[\u001b[0m\u001b[34;49mnotice\u001b[0m\u001b[1;39;49m]\u001b[0m\u001b[39;49m A new release of pip is available: \u001b[0m\u001b[31;49m24.2\u001b[0m\u001b[39;49m -> \u001b[0m\u001b[32;49m25.0.1\u001b[0m\n",
      "\u001b[1m[\u001b[0m\u001b[34;49mnotice\u001b[0m\u001b[1;39;49m]\u001b[0m\u001b[39;49m To update, run: \u001b[0m\u001b[32;49mpython3 -m pip install --upgrade pip\u001b[0m\n",
      "Requirement already satisfied: tqdm in /usr/local/lib/python3.11/dist-packages (4.67.1)\n",
      "\u001b[33mWARNING: Running pip as the 'root' user can result in broken permissions and conflicting behaviour with the system package manager, possibly rendering your system unusable.It is recommended to use a virtual environment instead: https://pip.pypa.io/warnings/venv. Use the --root-user-action option if you know what you are doing and want to suppress this warning.\u001b[0m\u001b[33m\n",
      "\u001b[0m\n",
      "\u001b[1m[\u001b[0m\u001b[34;49mnotice\u001b[0m\u001b[1;39;49m]\u001b[0m\u001b[39;49m A new release of pip is available: \u001b[0m\u001b[31;49m24.2\u001b[0m\u001b[39;49m -> \u001b[0m\u001b[32;49m25.0.1\u001b[0m\n",
      "\u001b[1m[\u001b[0m\u001b[34;49mnotice\u001b[0m\u001b[1;39;49m]\u001b[0m\u001b[39;49m To update, run: \u001b[0m\u001b[32;49mpython3 -m pip install --upgrade pip\u001b[0m\n"
     ]
    }
   ],
   "source": [
    "!pip install xgboost\n",
    "!pip install tqdm"
   ]
  },
  {
   "cell_type": "code",
   "execution_count": 6,
   "id": "7f9fc048-a3f0-4fbe-a589-47d766ae7576",
   "metadata": {},
   "outputs": [],
   "source": [
    "locs = {'waiting_folder' : 'data/waiting times'}"
   ]
  },
  {
   "cell_type": "code",
   "execution_count": 7,
   "id": "246df272-49d7-450f-a8de-848e6c9cf8dd",
   "metadata": {},
   "outputs": [
    {
     "ename": "FileNotFoundError",
     "evalue": "[Errno 2] No such file or directory: 'data/waiting times'",
     "output_type": "error",
     "traceback": [
      "\u001b[0;31m---------------------------------------------------------------------------\u001b[0m",
      "\u001b[0;31mFileNotFoundError\u001b[0m                         Traceback (most recent call last)",
      "Cell \u001b[0;32mIn[7], line 2\u001b[0m\n\u001b[1;32m      1\u001b[0m waiting_times \u001b[38;5;241m=\u001b[39m \u001b[38;5;28mlist\u001b[39m()\n\u001b[0;32m----> 2\u001b[0m \u001b[38;5;28;01mfor\u001b[39;00m attraction \u001b[38;5;129;01min\u001b[39;00m tqdm(\u001b[43mos\u001b[49m\u001b[38;5;241;43m.\u001b[39;49m\u001b[43mlistdir\u001b[49m\u001b[43m(\u001b[49m\u001b[43mlocs\u001b[49m\u001b[43m[\u001b[49m\u001b[38;5;124;43m'\u001b[39;49m\u001b[38;5;124;43mwaiting_folder\u001b[39;49m\u001b[38;5;124;43m'\u001b[39;49m\u001b[43m]\u001b[49m\u001b[43m)\u001b[49m):\n\u001b[1;32m      3\u001b[0m     filename \u001b[38;5;241m=\u001b[39m os\u001b[38;5;241m.\u001b[39mpath\u001b[38;5;241m.\u001b[39mjoin(locs[\u001b[38;5;124m'\u001b[39m\u001b[38;5;124mwaiting_folder\u001b[39m\u001b[38;5;124m'\u001b[39m], attraction)\n\u001b[1;32m      4\u001b[0m     df \u001b[38;5;241m=\u001b[39m pd\u001b[38;5;241m.\u001b[39mread_csv(filename)\n",
      "\u001b[0;31mFileNotFoundError\u001b[0m: [Errno 2] No such file or directory: 'data/waiting times'"
     ]
    }
   ],
   "source": [
    "waiting_times = list()\n",
    "for attraction in tqdm(os.listdir(locs['waiting_folder'])):\n",
    "    filename = os.path.join(locs['waiting_folder'], attraction)\n",
    "    df = pd.read_csv(filename)\n",
    "    if df.empty:\n",
    "        continue\n",
    "    df.insert(0, 'attraction', attraction.split('.')[0])\n",
    "    waiting_times.append(df)\n",
    "\n",
    "df_wait_raw = pd.concat(waiting_times, ignore_index=True)"
   ]
  },
  {
   "cell_type": "code",
   "execution_count": 7,
   "id": "1a19fa67-17a2-4fe8-9aa2-43cb67598163",
   "metadata": {},
   "outputs": [
    {
     "name": "stdout",
     "output_type": "stream",
     "text": [
      "Removed 1318703 rows\n"
     ]
    }
   ],
   "source": [
    "df_wait = df_wait_raw.copy()\n",
    "# Cleaning the actual waiting times\n",
    "# Removing outliers from actuals\n",
    "df_wait = df_wait[((df_wait.SACTMIN >= -1000) & (df_wait.SACTMIN < 360)) | (df_wait.SACTMIN.isnull())]\n",
    "# Removing outliers from posted (attraction closed at -999)\n",
    "df_wait = df_wait[(df_wait.SPOSTMIN >= -998.99) | (df_wait.SPOSTMIN.isnull())]\n",
    "\n",
    "df_wait['date'] = pd.to_datetime(df_wait.date, format = '%m/%d/%Y')\n",
    "df_wait['datetime'] = pd.to_datetime(df_wait.datetime, format = '%Y-%m-%d %H:%M:%S')\n",
    "\n",
    "print(f\"Removed {len(df_wait_raw) - len(df_wait)} rows\")\n",
    "\n",
    "# You could split the dataset into two seperate dataframes (plusjes & minnetjes :-))\n",
    "df_wait_act = df_wait[~df_wait.SACTMIN.isnull()].drop('SPOSTMIN', axis = 1)\n",
    "df_wait_post = df_wait[~df_wait.SPOSTMIN.isnull()].drop('SACTMIN', axis = 1)\n",
    "\n",
    "attractions = df_wait.attraction.unique()"
   ]
  },
  {
   "cell_type": "code",
   "execution_count": null,
   "id": "81dfbaed-0d84-4da2-80af-d0d8d2d033a8",
   "metadata": {},
   "outputs": [],
   "source": [
    "#Time based features"
   ]
  },
  {
   "cell_type": "code",
   "execution_count": 8,
   "id": "62933c8b-e678-4892-b8e3-9f47c490cb4b",
   "metadata": {},
   "outputs": [],
   "source": [
    "df_wait['hour'] = df_wait['datetime'].dt.hour\n",
    "df_wait['minute'] = df_wait['datetime'].dt.minute\n",
    "df_wait['dayofweek'] = df_wait['datetime'].dt.dayofweek\n",
    "df_wait['month'] = df_wait['datetime'].dt.month\n",
    "df_wait['weekofyear'] = df_wait['datetime'].dt.isocalendar().week\n"
   ]
  },
  {
   "cell_type": "code",
   "execution_count": 5,
   "id": "30c1a8cc-f1a1-4910-a71e-a84359f4de53",
   "metadata": {},
   "outputs": [
    {
     "ename": "NameError",
     "evalue": "name 'df_wait' is not defined",
     "output_type": "error",
     "traceback": [
      "\u001b[0;31m---------------------------------------------------------------------------\u001b[0m",
      "\u001b[0;31mNameError\u001b[0m                                 Traceback (most recent call last)",
      "Cell \u001b[0;32mIn[5], line 1\u001b[0m\n\u001b[0;32m----> 1\u001b[0m \u001b[38;5;28;01mfor\u001b[39;00m (date, attraction), group \u001b[38;5;129;01min\u001b[39;00m tqdm(\u001b[43mdf_wait\u001b[49m\u001b[38;5;241m.\u001b[39mgroupby([\u001b[38;5;124m'\u001b[39m\u001b[38;5;124mdate\u001b[39m\u001b[38;5;124m'\u001b[39m, \u001b[38;5;124m'\u001b[39m\u001b[38;5;124mattraction\u001b[39m\u001b[38;5;124m'\u001b[39m])):\n\u001b[1;32m      2\u001b[0m     time_shifted \u001b[38;5;241m=\u001b[39m group[\u001b[38;5;124m'\u001b[39m\u001b[38;5;124mdatetime\u001b[39m\u001b[38;5;124m'\u001b[39m] \u001b[38;5;241m-\u001b[39m timedelta(hours\u001b[38;5;241m=\u001b[39m\u001b[38;5;241m3\u001b[39m)\n\u001b[1;32m      3\u001b[0m     group[\u001b[38;5;124m'\u001b[39m\u001b[38;5;124mminute\u001b[39m\u001b[38;5;124m'\u001b[39m] \u001b[38;5;241m=\u001b[39m \u001b[38;5;241m3\u001b[39m \u001b[38;5;241m*\u001b[39m \u001b[38;5;241m60\u001b[39m \u001b[38;5;241m+\u001b[39m time_shifted\u001b[38;5;241m.\u001b[39mdt\u001b[38;5;241m.\u001b[39mhour \u001b[38;5;241m*\u001b[39m \u001b[38;5;241m60\u001b[39m \u001b[38;5;241m+\u001b[39m time_shifted\u001b[38;5;241m.\u001b[39mdt\u001b[38;5;241m.\u001b[39mminute\n",
      "\u001b[0;31mNameError\u001b[0m: name 'df_wait' is not defined"
     ]
    }
   ],
   "source": [
    "for (date, attraction), group in tqdm(df_wait.groupby(['date', 'attraction'])):\n",
    "    time_shifted = group['datetime'] - timedelta(hours=3)\n",
    "    group['minute'] = 3 * 60 + time_shifted.dt.hour * 60 + time_shifted.dt.minute\n",
    "\n",
    "    if not {'SACTMIN', 'SPOSTMIN'}.issubset(group.columns):\n",
    "        continue\n",
    "\n",
    "    # Check if there's enough non-NaN data to interpolate\n",
    "    if group[['SACTMIN', 'SPOSTMIN']].dropna(how='all').empty:\n",
    "        continue  # Skip if there's nothing to work with\n",
    "\n",
    "    group = group.drop(columns=['datetime', 'attraction', 'date'], errors='ignore')\n",
    "    group = group.groupby('minute', as_index=False)[['SACTMIN', 'SPOSTMIN']].mean()\n",
    "\n",
    "    new_index = np.arange(0, 27 * 60 + 1, 30)\n",
    "    group = group.set_index('minute')\n",
    "\n",
    "    # REINDEX ONLY IF INDEX ISN'T EMPTY\n",
    "    if group.index.empty:\n",
    "        continue\n",
    "\n",
    "    reindexed = group.reindex(np.unique(np.concatenate([new_index, group.index]))).interpolate(method='linear')\n",
    "\n",
    "    resampled = reindexed.loc[new_index].reset_index()\n",
    "\n",
    "    for col in ['SACTMIN', 'SPOSTMIN']:\n",
    "        if col in resampled.columns:\n",
    "            resampled[col] = ((resampled[col] + 2.5) // 5) * 5\n",
    "\n",
    "    resampled['SPOSTMIN_interp'] = resampled['SPOSTMIN'].interpolate(method='linear')\n",
    "\n",
    "    # ⚠️ Avoid dividing by zero or NaN\n",
    "    if 'SACTMIN' in resampled.columns and 'SPOSTMIN_interp' in resampled.columns:\n",
    "        resampled['actual_over_posted'] = resampled['SACTMIN'] / resampled['SPOSTMIN_interp']\n",
    "\n",
    "    resampled.insert(0, 'date', date)\n",
    "    resampled.insert(1, 'attraction', attraction)\n",
    "\n",
    "    groups_itp.append(resampled)\n"
   ]
  },
  {
   "cell_type": "code",
   "execution_count": null,
   "id": "a6f1d7c1-d74a-49b1-bf32-4d12cf336588",
   "metadata": {},
   "outputs": [],
   "source": []
  },
  {
   "cell_type": "code",
   "execution_count": null,
   "id": "4953135d-d16d-460e-9e30-20fe61e7f5f1",
   "metadata": {},
   "outputs": [],
   "source": [
    "#calculating actual over posted"
   ]
  },
  {
   "cell_type": "code",
   "execution_count": null,
   "id": "926be24f-2a17-461b-873e-66495b6d6145",
   "metadata": {},
   "outputs": [],
   "source": []
  },
  {
   "cell_type": "code",
   "execution_count": 9,
   "id": "9e2ab23c-e54c-4810-8383-e165e332fbe9",
   "metadata": {},
   "outputs": [],
   "source": [
    "df_wait['SPOSTMIN_interp'] = df_wait['SPOSTMIN'].interpolate()\n",
    "df_wait['actual_over_posted'] = df_wait['SACTMIN'] / df_wait['SPOSTMIN_interp']\n"
   ]
  },
  {
   "cell_type": "markdown",
   "id": "862725bc-0549-411e-a17f-27e701c3cd1d",
   "metadata": {},
   "source": [
    "# Identify Problem Areas\n",
    "### Using EDA (Exploratory Data Analysis) to find pain points"
   ]
  },
  {
   "cell_type": "markdown",
   "id": "fc560ad9-5c72-4f5e-82c0-0f36ba5084b0",
   "metadata": {},
   "source": [
    "\n",
    "3.1 Attractions with inaccurate posted wait times"
   ]
  },
  {
   "cell_type": "code",
   "execution_count": 10,
   "id": "3a8e45ad-58a6-42a6-96f1-ae8e2658a8b0",
   "metadata": {},
   "outputs": [
    {
     "data": {
      "text/plain": [
       "Text(0.5, 1.0, 'Attractions Where Actual Wait > 2x Posted Time')"
      ]
     },
     "execution_count": 10,
     "metadata": {},
     "output_type": "execute_result"
    },
    {
     "data": {
      "image/png": "[encoded data removed]",
      "text/plain": [
       "<Figure size 640x480 with 1 Axes>"
      ]
     },
     "metadata": {},
     "output_type": "display_data"
    }
   ],
   "source": [
    "problematic = df_wait[df_wait['actual_over_posted'] > 2]\n",
    "sns.countplot(data=problematic, x='attraction', order=problematic['attraction'].value_counts().index[:20])\n",
    "plt.xticks(rotation=90)\n",
    "plt.title('Attractions Where Actual Wait > 2x Posted Time')\n"
   ]
  },
  {
   "cell_type": "markdown",
   "id": "9ff47a04-ced8-4fb1-accf-6205a7720a2a",
   "metadata": {},
   "source": [
    "3.2 Attractions with longest posted waits"
   ]
  },
  {
   "cell_type": "code",
   "execution_count": 11,
   "id": "90e9f073-d997-4f20-9ccc-8ca3866ae04a",
   "metadata": {},
   "outputs": [
    {
     "data": {
      "text/plain": [
       "Text(0.5, 0, 'Posted Wait Time (minutes)')"
      ]
     },
     "execution_count": 11,
     "metadata": {},
     "output_type": "execute_result"
    },
    {
     "data": {
      "image/png": "[encoded data removed]",
      "text/plain": [
       "<Figure size 640x480 with 1 Axes>"
      ]
     },
     "metadata": {},
     "output_type": "display_data"
    }
   ],
   "source": [
    "top_waits = df_wait.sort_values('SPOSTMIN_interp', ascending=False).head(20)\n",
    "plt.barh(top_waits['attraction'], top_waits['SPOSTMIN_interp'], color='orange')\n",
    "plt.title('Top Longest Posted Wait Times by Attraction')\n",
    "plt.xlabel('Posted Wait Time (minutes)')\n"
   ]
  },
  {
   "cell_type": "markdown",
   "id": "9be3157c-e9ef-44af-8160-7bf08f1cf499",
   "metadata": {},
   "source": [
    "### Modeling Wait Time\n",
    "### Use XGBoost to predict actual wait time based on available features"
   ]
  },
  {
   "cell_type": "code",
   "execution_count": 12,
   "id": "f27a9a35-5188-46b1-8203-21784d5af3b7",
   "metadata": {},
   "outputs": [
    {
     "data": {
      "text/html": [
       "<div>\n",
       "<style scoped>\n",
       "    .dataframe tbody tr th:only-of-type {\n",
       "        vertical-align: middle;\n",
       "    }\n",
       "\n",
       "    .dataframe tbody tr th {\n",
       "        vertical-align: top;\n",
       "    }\n",
       "\n",
       "    .dataframe thead th {\n",
       "        text-align: right;\n",
       "    }\n",
       "</style>\n",
       "<table border=\"1\" class=\"dataframe\">\n",
       "  <thead>\n",
       "    <tr style=\"text-align: right;\">\n",
       "      <th></th>\n",
       "      <th>attraction</th>\n",
       "      <th>date</th>\n",
       "      <th>datetime</th>\n",
       "      <th>SACTMIN</th>\n",
       "      <th>SPOSTMIN</th>\n",
       "      <th>hour</th>\n",
       "      <th>minute</th>\n",
       "      <th>dayofweek</th>\n",
       "      <th>month</th>\n",
       "      <th>weekofyear</th>\n",
       "      <th>SPOSTMIN_interp</th>\n",
       "      <th>actual_over_posted</th>\n",
       "    </tr>\n",
       "  </thead>\n",
       "  <tbody>\n",
       "    <tr>\n",
       "      <th>0</th>\n",
       "      <td>7_dwarfs_train</td>\n",
       "      <td>2015-01-01</td>\n",
       "      <td>2015-01-01 07:51:12</td>\n",
       "      <td>NaN</td>\n",
       "      <td>45.0</td>\n",
       "      <td>7</td>\n",
       "      <td>51</td>\n",
       "      <td>3</td>\n",
       "      <td>1</td>\n",
       "      <td>1</td>\n",
       "      <td>45.0</td>\n",
       "      <td>NaN</td>\n",
       "    </tr>\n",
       "    <tr>\n",
       "      <th>1</th>\n",
       "      <td>7_dwarfs_train</td>\n",
       "      <td>2015-01-01</td>\n",
       "      <td>2015-01-01 08:02:13</td>\n",
       "      <td>NaN</td>\n",
       "      <td>60.0</td>\n",
       "      <td>8</td>\n",
       "      <td>2</td>\n",
       "      <td>3</td>\n",
       "      <td>1</td>\n",
       "      <td>1</td>\n",
       "      <td>60.0</td>\n",
       "      <td>NaN</td>\n",
       "    </tr>\n",
       "    <tr>\n",
       "      <th>2</th>\n",
       "      <td>7_dwarfs_train</td>\n",
       "      <td>2015-01-01</td>\n",
       "      <td>2015-01-01 08:05:30</td>\n",
       "      <td>54.0</td>\n",
       "      <td>NaN</td>\n",
       "      <td>8</td>\n",
       "      <td>5</td>\n",
       "      <td>3</td>\n",
       "      <td>1</td>\n",
       "      <td>1</td>\n",
       "      <td>60.0</td>\n",
       "      <td>0.9</td>\n",
       "    </tr>\n",
       "    <tr>\n",
       "      <th>3</th>\n",
       "      <td>7_dwarfs_train</td>\n",
       "      <td>2015-01-01</td>\n",
       "      <td>2015-01-01 08:09:12</td>\n",
       "      <td>NaN</td>\n",
       "      <td>60.0</td>\n",
       "      <td>8</td>\n",
       "      <td>9</td>\n",
       "      <td>3</td>\n",
       "      <td>1</td>\n",
       "      <td>1</td>\n",
       "      <td>60.0</td>\n",
       "      <td>NaN</td>\n",
       "    </tr>\n",
       "    <tr>\n",
       "      <th>4</th>\n",
       "      <td>7_dwarfs_train</td>\n",
       "      <td>2015-01-01</td>\n",
       "      <td>2015-01-01 08:16:12</td>\n",
       "      <td>NaN</td>\n",
       "      <td>60.0</td>\n",
       "      <td>8</td>\n",
       "      <td>16</td>\n",
       "      <td>3</td>\n",
       "      <td>1</td>\n",
       "      <td>1</td>\n",
       "      <td>60.0</td>\n",
       "      <td>NaN</td>\n",
       "    </tr>\n",
       "  </tbody>\n",
       "</table>\n",
       "</div>"
      ],
      "text/plain": [
       "       attraction       date            datetime  SACTMIN  SPOSTMIN  hour  \\\n",
       "0  7_dwarfs_train 2015-01-01 2015-01-01 07:51:12      NaN      45.0     7   \n",
       "1  7_dwarfs_train 2015-01-01 2015-01-01 08:02:13      NaN      60.0     8   \n",
       "2  7_dwarfs_train 2015-01-01 2015-01-01 08:05:30     54.0       NaN     8   \n",
       "3  7_dwarfs_train 2015-01-01 2015-01-01 08:09:12      NaN      60.0     8   \n",
       "4  7_dwarfs_train 2015-01-01 2015-01-01 08:16:12      NaN      60.0     8   \n",
       "\n",
       "   minute  dayofweek  month  weekofyear  SPOSTMIN_interp  actual_over_posted  \n",
       "0      51          3      1           1             45.0                 NaN  \n",
       "1       2          3      1           1             60.0                 NaN  \n",
       "2       5          3      1           1             60.0                 0.9  \n",
       "3       9          3      1           1             60.0                 NaN  \n",
       "4      16          3      1           1             60.0                 NaN  "
      ]
     },
     "execution_count": 12,
     "metadata": {},
     "output_type": "execute_result"
    }
   ],
   "source": [
    "df_wait.head()"
   ]
  },
  {
   "cell_type": "code",
   "execution_count": 13,
   "id": "13292aa2-08e3-4e08-a414-9c21143c682c",
   "metadata": {},
   "outputs": [
    {
     "data": {
      "text/plain": [
       "(192372, 12)"
      ]
     },
     "execution_count": 13,
     "metadata": {},
     "output_type": "execute_result"
    }
   ],
   "source": [
    "df_model_ready = df_wait[df_wait['SACTMIN'].notna()].copy()\n",
    "df_model_ready.shape"
   ]
  },
  {
   "cell_type": "code",
   "execution_count": 14,
   "id": "fe5e0bb4-d5f8-4278-99c8-0498358f61f4",
   "metadata": {},
   "outputs": [],
   "source": [
    "df_model_ready = df_model_ready[df_model_ready['date'].dt.year != 2020].copy()"
   ]
  },
  {
   "cell_type": "code",
   "execution_count": 15,
   "id": "1e89c14b-c196-4d8c-a9d1-12331d5547d8",
   "metadata": {},
   "outputs": [
    {
     "name": "stdout",
     "output_type": "stream",
     "text": [
      "[2015 2016 2017 2018 2019 2021]\n"
     ]
    }
   ],
   "source": [
    "print(df_model_ready['date'].dt.year.unique())"
   ]
  },
  {
   "cell_type": "code",
   "execution_count": 16,
   "id": "c6791333-f84b-4ea7-8fb8-6bf590fcffbe",
   "metadata": {},
   "outputs": [
    {
     "data": {
      "text/plain": [
       "Index(['attraction', 'date', 'datetime', 'SACTMIN', 'SPOSTMIN', 'hour',\n",
       "       'minute', 'dayofweek', 'month', 'weekofyear', 'SPOSTMIN_interp',\n",
       "       'actual_over_posted'],\n",
       "      dtype='object')"
      ]
     },
     "execution_count": 16,
     "metadata": {},
     "output_type": "execute_result"
    }
   ],
   "source": [
    "df_model_ready.columns"
   ]
  },
  {
   "cell_type": "code",
   "execution_count": 17,
   "id": "442ef63e-a9f6-4b8c-b685-290d223e3f39",
   "metadata": {},
   "outputs": [],
   "source": [
    "features = ['actual_over_posted', 'minute', 'hour', 'dayofweek', 'month', 'weekofyear']\n",
    "X = df_model_ready[features]\n",
    "y = df_model_ready['SACTMIN']\n"
   ]
  },
  {
   "cell_type": "code",
   "execution_count": 23,
   "id": "5eaf3f53-5c56-4000-9e94-1caa573d453f",
   "metadata": {},
   "outputs": [],
   "source": [
    "# Select only numeric columns again\n",
    "X_numeric = X.select_dtypes(include=[np.number])\n",
    "\n",
    "# Drop all-NaN and constant columns (safe cleanup)\n",
    "X_numeric = X_numeric.dropna(axis=1, how='all')\n",
    "X_numeric = X_numeric.loc[:, X_numeric.std() > 0]\n",
    "\n",
    "# MANUAL Z-score computation (instead of scipy.stats.zscore)\n",
    "z = np.abs((X_numeric - X_numeric.mean()) / X_numeric.std())\n",
    "\n",
    "# Keep rows where all features have z-score < 3\n",
    "X_filtered = X_numeric[(z < 3).all(axis=1)]\n",
    "\n",
    "# Filter full dataset to match these rows\n",
    "df_model_ready = df_model_ready.loc[X_filtered.index]\n",
    "X = X_filtered\n",
    "y = df_model_ready['SACTMIN']\n"
   ]
  },
  {
   "cell_type": "code",
   "execution_count": 25,
   "id": "bad8cbd4-20d5-4b2e-9dd9-8d2e93ad0496",
   "metadata": {},
   "outputs": [],
   "source": [
    "from sklearn.model_selection import train_test_split\n",
    "\n",
    "X_train, X_test, y_train, y_test = train_test_split(X, y, test_size=0.2, random_state=101)\n"
   ]
  },
  {
   "cell_type": "code",
   "execution_count": 26,
   "id": "56fbacc5-c92c-4111-97f2-167dc17bdcbf",
   "metadata": {},
   "outputs": [
    {
     "data": {
      "text/html": [
       "<style>#sk-container-id-1 {color: black;}#sk-container-id-1 pre{padding: 0;}#sk-container-id-1 div.sk-toggleable {background-color: white;}#sk-container-id-1 label.sk-toggleable__label {cursor: pointer;display: block;width: 100%;margin-bottom: 0;padding: 0.3em;box-sizing: border-box;text-align: center;}#sk-container-id-1 label.sk-toggleable__label-arrow:before {content: \"▸\";float: left;margin-right: 0.25em;color: #696969;}#sk-container-id-1 label.sk-toggleable__label-arrow:hover:before {color: black;}#sk-container-id-1 div.sk-estimator:hover label.sk-toggleable__label-arrow:before {color: black;}#sk-container-id-1 div.sk-toggleable__content {max-height: 0;max-width: 0;overflow: hidden;text-align: left;background-color: #f0f8ff;}#sk-container-id-1 div.sk-toggleable__content pre {margin: 0.2em;color: black;border-radius: 0.25em;background-color: #f0f8ff;}#sk-container-id-1 input.sk-toggleable__control:checked~div.sk-toggleable__content {max-height: 200px;max-width: 100%;overflow: auto;}#sk-container-id-1 input.sk-toggleable__control:checked~label.sk-toggleable__label-arrow:before {content: \"▾\";}#sk-container-id-1 div.sk-estimator input.sk-toggleable__control:checked~label.sk-toggleable__label {background-color: #d4ebff;}#sk-container-id-1 div.sk-label input.sk-toggleable__control:checked~label.sk-toggleable__label {background-color: #d4ebff;}#sk-container-id-1 input.sk-hidden--visually {border: 0;clip: rect(1px 1px 1px 1px);clip: rect(1px, 1px, 1px, 1px);height: 1px;margin: -1px;overflow: hidden;padding: 0;position: absolute;width: 1px;}#sk-container-id-1 div.sk-estimator {font-family: monospace;background-color: #f0f8ff;border: 1px dotted black;border-radius: 0.25em;box-sizing: border-box;margin-bottom: 0.5em;}#sk-container-id-1 div.sk-estimator:hover {background-color: #d4ebff;}#sk-container-id-1 div.sk-parallel-item::after {content: \"\";width: 100%;border-bottom: 1px solid gray;flex-grow: 1;}#sk-container-id-1 div.sk-label:hover label.sk-toggleable__label {background-color: #d4ebff;}#sk-container-id-1 div.sk-serial::before {content: \"\";position: absolute;border-left: 1px solid gray;box-sizing: border-box;top: 0;bottom: 0;left: 50%;z-index: 0;}#sk-container-id-1 div.sk-serial {display: flex;flex-direction: column;align-items: center;background-color: white;padding-right: 0.2em;padding-left: 0.2em;position: relative;}#sk-container-id-1 div.sk-item {position: relative;z-index: 1;}#sk-container-id-1 div.sk-parallel {display: flex;align-items: stretch;justify-content: center;background-color: white;position: relative;}#sk-container-id-1 div.sk-item::before, #sk-container-id-1 div.sk-parallel-item::before {content: \"\";position: absolute;border-left: 1px solid gray;box-sizing: border-box;top: 0;bottom: 0;left: 50%;z-index: -1;}#sk-container-id-1 div.sk-parallel-item {display: flex;flex-direction: column;z-index: 1;position: relative;background-color: white;}#sk-container-id-1 div.sk-parallel-item:first-child::after {align-self: flex-end;width: 50%;}#sk-container-id-1 div.sk-parallel-item:last-child::after {align-self: flex-start;width: 50%;}#sk-container-id-1 div.sk-parallel-item:only-child::after {width: 0;}#sk-container-id-1 div.sk-dashed-wrapped {border: 1px dashed gray;margin: 0 0.4em 0.5em 0.4em;box-sizing: border-box;padding-bottom: 0.4em;background-color: white;}#sk-container-id-1 div.sk-label label {font-family: monospace;font-weight: bold;display: inline-block;line-height: 1.2em;}#sk-container-id-1 div.sk-label-container {text-align: center;}#sk-container-id-1 div.sk-container {/* jupyter's `normalize.less` sets `[hidden] { display: none; }` but bootstrap.min.css set `[hidden] { display: none !important; }` so we also need the `!important` here to be able to override the default hidden behavior on the sphinx rendered scikit-learn.org. See: https://github.com/scikit-learn/scikit-learn/issues/21755 */display: inline-block !important;position: relative;}#sk-container-id-1 div.sk-text-repr-fallback {display: none;}</style><div id=\"sk-container-id-1\" class=\"sk-top-container\"><div class=\"sk-text-repr-fallback\"><pre>XGBRegressor(base_score=None, booster=None, callbacks=None,\n",
       "             colsample_bylevel=None, colsample_bynode=None,\n",
       "             colsample_bytree=None, device=None, early_stopping_rounds=None,\n",
       "             enable_categorical=False, eval_metric=None, feature_types=None,\n",
       "             feature_weights=None, gamma=None, grow_policy=None,\n",
       "             importance_type=None, interaction_constraints=None,\n",
       "             learning_rate=0.1, max_bin=None, max_cat_threshold=None,\n",
       "             max_cat_to_onehot=None, max_delta_step=None, max_depth=5,\n",
       "             max_leaves=None, min_child_weight=None, missing=nan,\n",
       "             monotone_constraints=None, multi_strategy=None, n_estimators=100,\n",
       "             n_jobs=None, num_parallel_tree=None, ...)</pre><b>In a Jupyter environment, please rerun this cell to show the HTML representation or trust the notebook. <br />On GitHub, the HTML representation is unable to render, please try loading this page with nbviewer.org.</b></div><div class=\"sk-container\" hidden><div class=\"sk-item\"><div class=\"sk-estimator sk-toggleable\"><input class=\"sk-toggleable__control sk-hidden--visually\" id=\"sk-estimator-id-1\" type=\"checkbox\" checked><label for=\"sk-estimator-id-1\" class=\"sk-toggleable__label sk-toggleable__label-arrow\">XGBRegressor</label><div class=\"sk-toggleable__content\"><pre>XGBRegressor(base_score=None, booster=None, callbacks=None,\n",
       "             colsample_bylevel=None, colsample_bynode=None,\n",
       "             colsample_bytree=None, device=None, early_stopping_rounds=None,\n",
       "             enable_categorical=False, eval_metric=None, feature_types=None,\n",
       "             feature_weights=None, gamma=None, grow_policy=None,\n",
       "             importance_type=None, interaction_constraints=None,\n",
       "             learning_rate=0.1, max_bin=None, max_cat_threshold=None,\n",
       "             max_cat_to_onehot=None, max_delta_step=None, max_depth=5,\n",
       "             max_leaves=None, min_child_weight=None, missing=nan,\n",
       "             monotone_constraints=None, multi_strategy=None, n_estimators=100,\n",
       "             n_jobs=None, num_parallel_tree=None, ...)</pre></div></div></div></div></div>"
      ],
      "text/plain": [
       "XGBRegressor(base_score=None, booster=None, callbacks=None,\n",
       "             colsample_bylevel=None, colsample_bynode=None,\n",
       "             colsample_bytree=None, device=None, early_stopping_rounds=None,\n",
       "             enable_categorical=False, eval_metric=None, feature_types=None,\n",
       "             feature_weights=None, gamma=None, grow_policy=None,\n",
       "             importance_type=None, interaction_constraints=None,\n",
       "             learning_rate=0.1, max_bin=None, max_cat_threshold=None,\n",
       "             max_cat_to_onehot=None, max_delta_step=None, max_depth=5,\n",
       "             max_leaves=None, min_child_weight=None, missing=nan,\n",
       "             monotone_constraints=None, multi_strategy=None, n_estimators=100,\n",
       "             n_jobs=None, num_parallel_tree=None, ...)"
      ]
     },
     "execution_count": 26,
     "metadata": {},
     "output_type": "execute_result"
    }
   ],
   "source": [
    "from xgboost import XGBRegressor\n",
    "\n",
    "model = XGBRegressor(\n",
    "    n_estimators=100,\n",
    "    learning_rate=0.1,\n",
    "    max_depth=5,\n",
    "    tree_method='hist',  # memory-efficient\n",
    "    random_state=42\n",
    ")\n",
    "\n",
    "model.fit(X_train, y_train)\n"
   ]
  },
  {
   "cell_type": "code",
   "execution_count": 27,
   "id": "a7ec9111-681e-44e3-9b22-dabcbef039fd",
   "metadata": {},
   "outputs": [
    {
     "name": "stdout",
     "output_type": "stream",
     "text": [
      "MAE: 13.15969345534554\n",
      "R2 Score: 0.060788404278322994\n"
     ]
    }
   ],
   "source": [
    "from sklearn.metrics import mean_absolute_error, r2_score\n",
    "\n",
    "y_pred = model.predict(X_test)\n",
    "\n",
    "print(\"MAE:\", mean_absolute_error(y_test, y_pred))\n",
    "print(\"R2 Score:\", r2_score(y_test, y_pred))\n"
   ]
  },
  {
   "cell_type": "code",
   "execution_count": 28,
   "id": "1542f750-1557-437e-be22-7613234039bb",
   "metadata": {},
   "outputs": [
    {
     "data": {
      "image/png": "[encoded data removed]",
      "text/plain": [
       "<Figure size 1000x600 with 1 Axes>"
      ]
     },
     "metadata": {},
     "output_type": "display_data"
    }
   ],
   "source": [
    "import matplotlib.pyplot as plt\n",
    "\n",
    "plt.figure(figsize=(10,6))\n",
    "importance = model.feature_importances_\n",
    "plt.barh(X.columns, importance)\n",
    "plt.xlabel(\"Feature Importance\")\n",
    "plt.title(\"XGBoost Feature Importance\")\n",
    "plt.show()\n"
   ]
  },
  {
   "cell_type": "code",
   "execution_count": 29,
   "id": "d9f773ca-adb9-4082-b5c4-b78d8f16a82e",
   "metadata": {},
   "outputs": [
    {
     "name": "stdout",
     "output_type": "stream",
     "text": [
      "Best parameters: {'learning_rate': 0.3, 'max_depth': 3, 'n_estimators': 200}\n"
     ]
    }
   ],
   "source": [
    "from sklearn.model_selection import GridSearchCV\n",
    "from sklearn.metrics import composition_report\n",
    "\n",
    "params = {\n",
    "    'max_depth': [3, 5],\n",
    "    'learning_rate': [0.1, 0.3],\n",
    "    'n_estimators': [100, 200]\n",
    "}\n",
    "\n",
    "grid = GridSearchCV(XGBRegressor(tree_method='hist'), params, scoring='neg_mean_squared_error', cv=3)\n",
    "grid.fit(X_train, y_train)\n",
    "\n",
    "print(\"Best parameters:\", grid.best_params_)\n"
   ]
  },
  {
   "cell_type": "code",
   "execution_count": null,
   "id": "b029322b-3c10-4575-b322-a86a87f825f4",
   "metadata": {},
   "outputs": [],
   "source": [
    "best_model =  grid.best_params_\n",
    "best_model.fit(X_train, y_train)\n",
    "\n",
    "pred = best_model.predixt(X_test)\n",
    "pred"
   ]
  }
 ],
 "metadata": {
  "kernelspec": {
   "display_name": "Python 3 (ipykernel)",
   "language": "python",
   "name": "python3"
  },
  "language_info": {
   "codemirror_mode": {
    "name": "ipython",
    "version": 3
   },
   "file_extension": ".py",
   "mimetype": "text/x-python",
   "name": "python",
   "nbconvert_exporter": "python",
   "pygments_lexer": "ipython3",
   "version": "3.11.0rc1"
  }
 },
 "nbformat": 4,
 "nbformat_minor": 5
}
